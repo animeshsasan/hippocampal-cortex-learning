{
 "cells": [
  {
   "cell_type": "code",
   "execution_count": 19,
   "id": "11516339",
   "metadata": {},
   "outputs": [
    {
     "name": "stdout",
     "output_type": "stream",
     "text": [
      "The autoreload extension is already loaded. To reload it, use:\n",
      "  %reload_ext autoreload\n"
     ]
    }
   ],
   "source": [
    "%load_ext autoreload\n",
    "%autoreload 2"
   ]
  },
  {
   "cell_type": "code",
   "execution_count": 20,
   "id": "ed43e8b0",
   "metadata": {},
   "outputs": [],
   "source": [
    "import sys\n",
    "import os\n",
    "sys.path.append(os.path.abspath(\"..\"))\n",
    "\n",
    "from functools import reduce\n",
    "import numpy as np\n",
    "import torch\n",
    "import torch.nn as nn\n",
    "import torch.optim as optim\n",
    "import torch.nn.functional as F\n",
    "from sparseCodedLayer import SparseCodedLayer"
   ]
  },
  {
   "cell_type": "code",
   "execution_count": null,
   "id": "e433544c",
   "metadata": {},
   "outputs": [],
   "source": [
    "def xor(x):\n",
    "    return reduce(lambda a, b: a ^ b, x)\n",
    "\n",
    "batch_size = 5000\n",
    "in_features = 5\n",
    "X = np.random.randint(0, 2, size=(batch_size, in_features))\n",
    "y = np.array([xor(x) for x in X])\n",
    "\n",
    "X = torch.tensor(X).float()\n",
    "y = torch.tensor(y).long()"
   ]
  },
  {
   "cell_type": "code",
   "execution_count": 85,
   "id": "cb5dcee9",
   "metadata": {},
   "outputs": [],
   "source": [
    "X_train, y_train = X[:4000], y[:4000]\n",
    "X_val, y_val = X[4000:], y[4000:]"
   ]
  },
  {
   "cell_type": "code",
   "execution_count": null,
   "id": "0f69771b",
   "metadata": {},
   "outputs": [],
   "source": [
    "class SimpleSparseModel(nn.Module):\n",
    "    def __init__(self, in_features = in_features, out_features = 2):\n",
    "        super().__init__()\n",
    "        self._layer1 = SparseCodedLayer(in_features, 10, out_features_allowed=5, activation=nn.LeakyReLU(0.1))\n",
    "        self._layer2 = SparseCodedLayer(10, 15, out_features_allowed=5,activation=nn.LeakyReLU(0.1))\n",
    "        self._layer3 = SparseCodedLayer(15, out_features, activation=nn.LeakyReLU(0.1))\n",
    "        nn.Linear(in_features, out_features).forward\n",
    "        self.net = nn.Sequential(\n",
    "            self._layer1,\n",
    "            self._layer2,\n",
    "            self._layer3\n",
    "        )\n",
    "\n",
    "    def forward(self, x):\n",
    "        return self.net(x)"
   ]
  },
  {
   "cell_type": "code",
   "execution_count": 96,
   "id": "20a49ea8",
   "metadata": {},
   "outputs": [
    {
     "name": "stdout",
     "output_type": "stream",
     "text": [
      "Epoch 50, Loss: 0.6807\n",
      "Epoch 100, Loss: 0.5988\n",
      "Epoch 150, Loss: 0.4354\n",
      "Epoch 200, Loss: 0.3861\n",
      "Epoch 250, Loss: 0.2828\n",
      "Epoch 300, Loss: 0.1446\n"
     ]
    }
   ],
   "source": [
    "model = SimpleSparseModel()\n",
    "criterion = nn.CrossEntropyLoss()\n",
    "optimizer = optim.Adam(model.parameters(), lr=0.01)\n",
    "\n",
    "# Training loop\n",
    "for epoch in range(300):\n",
    "    optimizer.zero_grad()\n",
    "    outputs = model(X_train)\n",
    "    \n",
    "    loss = criterion(outputs, y_train)\n",
    "\n",
    "    loss.backward()\n",
    "    optimizer.step()\n",
    "\n",
    "    if (epoch+1) % 50 == 0:\n",
    "        print(f\"Epoch {epoch+1}, Loss: {loss.item():.4f}\")"
   ]
  },
  {
   "cell_type": "code",
   "execution_count": 97,
   "id": "a0ccef3c",
   "metadata": {},
   "outputs": [
    {
     "name": "stdout",
     "output_type": "stream",
     "text": [
      "Training accuracy: 96.80%\n"
     ]
    }
   ],
   "source": [
    "op = model(X_val)\n",
    "accuracy = (torch.argmax(op, dim=1) == y_val).float().mean().item()\n",
    "print(f\"Training accuracy: {accuracy*100:.2f}%\")"
   ]
  },
  {
   "cell_type": "code",
   "execution_count": null,
   "id": "fb5be13b",
   "metadata": {},
   "outputs": [],
   "source": []
  }
 ],
 "metadata": {
  "kernelspec": {
   "display_name": "hippocampal-cortex-learning",
   "language": "python",
   "name": "python3"
  },
  "language_info": {
   "codemirror_mode": {
    "name": "ipython",
    "version": 3
   },
   "file_extension": ".py",
   "mimetype": "text/x-python",
   "name": "python",
   "nbconvert_exporter": "python",
   "pygments_lexer": "ipython3",
   "version": "3.13.7"
  }
 },
 "nbformat": 4,
 "nbformat_minor": 5
}
