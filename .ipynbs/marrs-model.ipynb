{
 "cells": [
  {
   "cell_type": "code",
   "execution_count": 1,
   "id": "37df222a",
   "metadata": {},
   "outputs": [],
   "source": [
    "%load_ext autoreload\n",
    "%autoreload 2"
   ]
  },
  {
   "cell_type": "code",
   "execution_count": 10,
   "id": "1433e913",
   "metadata": {},
   "outputs": [],
   "source": [
    "import sys\n",
    "import os\n",
    "sys.path.append(os.path.abspath(\"..\"))\n",
    "\n",
    "\n",
    "import torch.nn as nn\n",
    "from metrics.charts import ChartUtil\n",
    "from metrics.charts import TrainingCharts\n",
    "from datasets.xor import XOR\n",
    "from training.train import TrainUtil"
   ]
  },
  {
   "cell_type": "code",
   "execution_count": null,
   "id": "7fb819b4",
   "metadata": {},
   "outputs": [],
   "source": [
    "dataset = XOR()\n",
    "in_features = 10\n",
    "out_features = 2\n",
    "X_train, y_train, X_val, y_val = dataset.get_dataset(in_features = in_features)\n",
    "trainUtil = TrainUtil(X_train, y_train, X_val = X_val, y_val = y_val)"
   ]
  },
  {
   "cell_type": "code",
   "execution_count": 8,
   "id": "c3ef0f7c",
   "metadata": {},
   "outputs": [],
   "source": [
    "from layers.customLinearLayer import CustomLinearLayer\n",
    "from layers.hippocampusLayer import HippocampusLayer\n",
    "from layers.neoCortexLayer import NeoCortexLayer\n",
    "\n",
    "\n",
    "class MarrsTwoLayerModel(nn.Module):\n",
    "    def __init__(self, in_features = in_features, \n",
    "                 out_features = out_features,\n",
    "                 memory_size = 1000,\n",
    "                 first_layer_out_features = 10,\n",
    "                 second_layer_out_features = 1000,\n",
    "                 alpha = 0.02):\n",
    "        super().__init__()\n",
    "        self.in_features = in_features\n",
    "        self.out_features = out_features\n",
    "        self.memory_size = memory_size\n",
    "        self.hippocampal_connections = second_layer_out_features\n",
    "        self.hippocampal_L_value = int(alpha * second_layer_out_features)\n",
    "        self.indicator_cells = first_layer_out_features\n",
    "\n",
    "        self._neo_cortex = NeoCortexLayer(self.in_features,\n",
    "                                      memory_size = self.memory_size,\n",
    "                                      out_features = self.indicator_cells,\n",
    "                                      hippocampol_connections=self.hippocampal_connections,)\n",
    "        \n",
    "        self._hippocampus = HippocampusLayer(self.indicator_cells, \n",
    "                                            self.hippocampal_connections, \n",
    "                                            out_features_allowed= self.hippocampal_L_value)\n",
    "        \n",
    "        self._recalled_output = CustomLinearLayer(memory_size, out_features)\n",
    "\n",
    "    def forward(self, x):\n",
    "        x_l1 = self._neo_cortex(x)\n",
    "        x_l2 = self._hippocampus(x_l1)\n",
    "        x_l3 = self._neo_cortex.coritcal_memory(x_l2)\n",
    "        out = self._recalled_output(x_l3)\n",
    "        return out"
   ]
  },
  {
   "cell_type": "code",
   "execution_count": 9,
   "id": "80a1a792",
   "metadata": {},
   "outputs": [
    {
     "ename": "NameError",
     "evalue": "name 'trainUtil' is not defined",
     "output_type": "error",
     "traceback": [
      "\u001b[31m---------------------------------------------------------------------------\u001b[39m",
      "\u001b[31mNameError\u001b[39m                                 Traceback (most recent call last)",
      "\u001b[36mCell\u001b[39m\u001b[36m \u001b[39m\u001b[32mIn[9]\u001b[39m\u001b[32m, line 9\u001b[39m\n\u001b[32m      1\u001b[39m \u001b[38;5;28;01mdef\u001b[39;00m\u001b[38;5;250m \u001b[39m\u001b[34mperform_one_cortical_experiment\u001b[39m(n_epochs = \u001b[32m41\u001b[39m, \n\u001b[32m      2\u001b[39m                           n_runs=\u001b[32m60\u001b[39m,\n\u001b[32m      3\u001b[39m                           in_features = in_features, \n\u001b[32m      4\u001b[39m                           out_features = out_features,\n\u001b[32m      5\u001b[39m                           memory_size = \u001b[32m1000\u001b[39m,\n\u001b[32m      6\u001b[39m                           first_layer_out_features = \u001b[32m10\u001b[39m,\n\u001b[32m      7\u001b[39m                           second_layer_out_features = \u001b[32m1000\u001b[39m,\n\u001b[32m      8\u001b[39m                           alpha = \u001b[32m0.02\u001b[39m,\n\u001b[32m----> \u001b[39m\u001b[32m9\u001b[39m                           trainUtil = \u001b[43mtrainUtil\u001b[49m,\n\u001b[32m     10\u001b[39m                           print_summary = \u001b[38;5;28;01mFalse\u001b[39;00m):\n\u001b[32m     11\u001b[39m     chartUtil = ChartUtil()\n\u001b[32m     12\u001b[39m     epoch_num = n_epochs\n",
      "\u001b[31mNameError\u001b[39m: name 'trainUtil' is not defined"
     ]
    }
   ],
   "source": [
    "def perform_one_cortical_experiment(n_epochs = 41, \n",
    "                          n_runs=60,\n",
    "                          in_features = in_features, \n",
    "                          out_features = out_features,\n",
    "                          memory_size = 1000,\n",
    "                          first_layer_out_features = 10,\n",
    "                          second_layer_out_features = 1000,\n",
    "                          alpha = 0.02,\n",
    "                          trainUtil = trainUtil,\n",
    "                          print_summary = False):\n",
    "    chartUtil = ChartUtil()\n",
    "    epoch_num = n_epochs\n",
    "    for _ in range(n_runs):\n",
    "        marrsTwoLayerModel = MarrsTwoLayerModel(\n",
    "                          in_features = in_features, \n",
    "                          out_features = out_features,\n",
    "                          memory_size = memory_size,\n",
    "                          first_layer_out_features = first_layer_out_features,\n",
    "                          second_layer_out_features = second_layer_out_features,\n",
    "                          alpha = alpha\n",
    "                          )\n",
    "        \n",
    "        loss_over_epochs, accuracy_over_epochs, epoch_numbers, train_accuracy, val_accuracy = trainUtil.train_and_evaluate(marrsTwoLayerModel, \n",
    "                                                                                                                           epochs=epoch_num, \n",
    "                                                                                                                           name=\"Marrs Two Layer Model\",\n",
    "                                                                                                                           print_msg=print_summary)\n",
    "        chartUtil.add_train_data(\"Marrs Two Layer Model\", loss_over_epochs, accuracy_over_epochs, epoch_numbers)\n",
    "        chartUtil.add_test_data(\"Marrs Two Layer Model\", train_accuracy, val_accuracy)\n",
    "    \n",
    "    return chartUtil"
   ]
  },
  {
   "cell_type": "code",
   "execution_count": null,
   "id": "d2a30d96",
   "metadata": {},
   "outputs": [],
   "source": [
    "\n",
    "chart_marrs_model = perform_one_cortical_experiment(n_epochs = 200, \n",
    "                                                    n_runs= 5, \n",
    "                                                    print_summary=True, \n",
    "                                                    memory_size = 100,\n",
    "                                                    first_layer_out_features = 5,\n",
    "                                                    second_layer_out_features = 50,\n",
    "                                                    alpha = 0.2)"
   ]
  },
  {
   "cell_type": "code",
   "execution_count": null,
   "id": "63353451",
   "metadata": {},
   "outputs": [],
   "source": [
    "training_loss = chart_marrs_model.plot_training_data_for()\n",
    "training_acc = chart_marrs_model.plot_training_data_for(TrainingCharts.ACC)\n",
    "test_acc = chart_marrs_model.plot_test_accu_for_models()\n",
    "training_loss.show()\n",
    "training_acc.show()\n",
    "test_acc.show()"
   ]
  }
 ],
 "metadata": {
  "kernelspec": {
   "display_name": "hippocampal-cortex-learning",
   "language": "python",
   "name": "python3"
  },
  "language_info": {
   "codemirror_mode": {
    "name": "ipython",
    "version": 3
   },
   "file_extension": ".py",
   "mimetype": "text/x-python",
   "name": "python",
   "nbconvert_exporter": "python",
   "pygments_lexer": "ipython3",
   "version": "3.13.7"
  }
 },
 "nbformat": 4,
 "nbformat_minor": 5
}
