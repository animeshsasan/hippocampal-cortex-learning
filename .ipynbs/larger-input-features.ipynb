{
 "cells": [
  {
   "cell_type": "code",
   "execution_count": 1,
   "id": "9c3d41e7",
   "metadata": {},
   "outputs": [],
   "source": [
    "%load_ext autoreload\n",
    "%autoreload 2"
   ]
  },
  {
   "cell_type": "code",
   "execution_count": 5,
   "id": "605c0077",
   "metadata": {},
   "outputs": [],
   "source": [
    "import sys\n",
    "import os\n",
    "sys.path.append(os.path.abspath(\"..\"))\n",
    "\n",
    "import torch.nn as nn\n",
    "from layers.customLayer import CustomLayer\n",
    "from training.train import TrainUtil\n",
    "from metrics.charts import ChartUtil\n",
    "from metrics.charts import TrainingCharts\n",
    "from datasets.xor import XOR\n",
    "from experiment.runExperiment import RunExperiment\n",
    "from experiment.models import ModelSetups"
   ]
  },
  {
   "cell_type": "code",
   "execution_count": 6,
   "id": "d17eb01c",
   "metadata": {},
   "outputs": [],
   "source": [
    "dataset = XOR()\n",
    "in_features = 4\n",
    "out_features = 2\n",
    "X_train, y_train, X_val, y_val = dataset.get_dataset(in_features = in_features, unique=False)\n",
    "trainUtil = TrainUtil(X_train, y_train, X_val = X_val, y_val = y_val)"
   ]
  },
  {
   "cell_type": "code",
   "execution_count": null,
   "id": "299000ba",
   "metadata": {},
   "outputs": [],
   "source": [
    "experiment = RunExperiment(trainUtil, in_features, ModelSetups().get_three_layer_models)"
   ]
  },
  {
   "cell_type": "code",
   "execution_count": null,
   "id": "4641f3ce",
   "metadata": {},
   "outputs": [],
   "source": [
    "dataset = XOR()\n",
    "X_train, y_train, X_val, y_val = dataset.get_dataset(in_features = 6, unique = True)\n",
    "trainUtilSixFeatures = TrainUtil(X_train, y_train, X_val = X_val, y_val = y_val)\n",
    "class LargerSparseModel(nn.Module):\n",
    "    def __init__(self, in_features = 6, out_features = 2):\n",
    "        super().__init__()\n",
    "        self._layer1 = CustomLayer(in_features, \n",
    "                                        400, \n",
    "                                        out_features_allowed=50)\n",
    "        self._layer2 = CustomLayer(400, 500,out_features_allowed=100)\n",
    "        self._layer3 = CustomLayer(500, 1000,out_features_allowed=200)\n",
    "        self._layer4 = CustomLayer(1000, 400,out_features_allowed=100)\n",
    "        self._layer5 = CustomLayer(400, out_features)\n",
    "\n",
    "    def forward(self, x, return_acts = False):\n",
    "        x_l1 = self._layer1(x)\n",
    "        x_l2 = self._layer2(x_l1)\n",
    "        x_l3 = self._layer3(x_l2)\n",
    "        x_l4 = self._layer4(x_l3)\n",
    "        out = self._layer5(x_l4)\n",
    "        if return_acts:\n",
    "            return out, {\"l1\": x_l1, \"l2\": x_l2, \"l3\": x_l3, \"l4\": out}\n",
    "        return out\n",
    "chartUtilsSixFeatures = ChartUtil()\n",
    "for _ in range(50):\n",
    "    loss_over_epochs, accuracy_over_epochs, epoch_numbers, train_accuracy, val_accuracy = trainUtilSixFeatures.train_and_evaluate(LargerSparseModel(), \n",
    "                                                                                                                           epochs=1000, \n",
    "                                                                                                                           name=\"Sparse Model\")\n",
    "    chartUtilsSixFeatures.add_train_data(\"Sparse Model\", loss_over_epochs, accuracy_over_epochs, epoch_numbers)\n",
    "    chartUtilsSixFeatures.add_test_data(\"Sparse Model\", train_accuracy, val_accuracy)"
   ]
  },
  {
   "cell_type": "code",
   "execution_count": null,
   "id": "0f99f7e8",
   "metadata": {},
   "outputs": [],
   "source": [
    "chartUtilsSixFeaturesBatch = ChartUtil()\n",
    "for _ in range(50):\n",
    "    loss_over_epochs, accuracy_over_epochs, epoch_numbers, train_accuracy, val_accuracy = trainUtilSixFeatures.train_and_evaluate(LargerSparseModel(), \n",
    "                                                                                                                           epochs=200, \n",
    "                                                                                                                           name=\"Sparse Model\",\n",
    "                                                                                                                           batch_train=True)\n",
    "    chartUtilsSixFeaturesBatch.add_train_data(\"Sparse Model\", loss_over_epochs, accuracy_over_epochs, epoch_numbers)\n",
    "    chartUtilsSixFeaturesBatch.add_test_data(\"Sparse Model\", train_accuracy, val_accuracy)"
   ]
  },
  {
   "cell_type": "code",
   "execution_count": null,
   "id": "8bedf777",
   "metadata": {},
   "outputs": [],
   "source": [
    "chartUtilsSixFeaturesBatch.plot_training_data_for().show()\n",
    "chartUtilsSixFeaturesBatch.plot_training_data_for(TrainingCharts.ACC, height_alpha=1).show()\n",
    "chartUtilsSixFeaturesBatch.plot_test_accu_for_models(width_alpha=2.5).show()"
   ]
  },
  {
   "cell_type": "code",
   "execution_count": null,
   "id": "35e7f3ba",
   "metadata": {},
   "outputs": [],
   "source": [
    "in_features = [2, 4, 6, 8]\n",
    "trainUtils = []\n",
    "chartUtilsBatch = []\n",
    "for i in in_features:\n",
    "    dataset = XOR()\n",
    "    X_train, y_train, X_val, y_val = dataset.get_dataset(in_features = i, unique = True)\n",
    "    newTrainUtil = TrainUtil(X_train, y_train, X_val = X_val, y_val = y_val)\n",
    "    trainUtils.append(newTrainUtil)\n",
    "    chartUtil = experiment.perform_one_experiment(n_epochs= 500, trainUtil=newTrainUtil, in_features = i, batch_train = True)\n",
    "    chartUtilsBatch.append(chartUtil)"
   ]
  }
 ],
 "metadata": {
  "kernelspec": {
   "display_name": "hippocampal-cortex-learning",
   "language": "python",
   "name": "python3"
  },
  "language_info": {
   "codemirror_mode": {
    "name": "ipython",
    "version": 3
   },
   "file_extension": ".py",
   "mimetype": "text/x-python",
   "name": "python",
   "nbconvert_exporter": "python",
   "pygments_lexer": "ipython3",
   "version": "3.13.7"
  }
 },
 "nbformat": 4,
 "nbformat_minor": 5
}
